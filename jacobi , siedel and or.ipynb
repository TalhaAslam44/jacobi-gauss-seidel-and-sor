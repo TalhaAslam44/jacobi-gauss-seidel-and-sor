{
 "cells": [
  {
   "cell_type": "code",
   "execution_count": 7,
   "id": "17bb937f",
   "metadata": {},
   "outputs": [
    {
     "name": "stdout",
     "output_type": "stream",
     "text": [
      "A:\n",
      "array([[2., 1.],\n",
      "       [5., 7.]])\n",
      "b:\n",
      "array([11., 13.])\n",
      "x:\n",
      "array([ 7.11110202, -3.22220342])\n"
     ]
    }
   ],
   "source": [
    "from pprint import pprint\n",
    "from numpy import array, zeros, diag, diagflat, dot\n",
    "\n",
    "def jacobi(A,b,N=25,x=None):\n",
    "    \"\"\"Solves the equation Ax=b via the Jacobi iterative method.\"\"\"\n",
    "    # Create an initial guess if needed                                                                                                                                                            \n",
    "    if x is None:\n",
    "        x = zeros(len(A[0]))\n",
    "    # Create a vector of the diagonal elements of A                                                                                                                                                \n",
    "    # and subtract them from A                                                                                                                                                                     \n",
    "    D = diag(A)\n",
    "    R = A - diagflat(D)\n",
    "    # Iterate for N times                                                                                                                                                                          \n",
    "    for i in range(N):\n",
    "        x = (b - dot(R,x)) / D\n",
    "    return x\n",
    "A = array([[2.0,1.0],[5.0,7.0]])\n",
    "b = array([11.0,13.0])\n",
    "guess = array([1.0,1.0])\n",
    "\n",
    "sol = jacobi(A,b,N=25,x=guess)\n",
    "\n",
    "print (\"A:\")\n",
    "pprint(A)\n",
    "\n",
    "print (\"b:\")\n",
    "pprint(b)\n",
    "\n",
    "print (\"x:\")\n",
    "pprint(sol)"
   ]
  },
  {
   "cell_type": "code",
   "execution_count": null,
   "id": "9af2a2f9",
   "metadata": {},
   "outputs": [],
   "source": []
  },
  {
   "cell_type": "code",
   "execution_count": null,
   "id": "80e4ae0a",
   "metadata": {},
   "outputs": [],
   "source": [
    " #Gauss Seidel Iteration\n",
    "# Defining equations to be solved\n",
    "# in diagonally dominant form\n",
    "f1 = lambda x,y,z: (17-y+2*z)/20\n",
    "f2 = lambda x,y,z: (-18-3*x+z)/20\n",
    "f3 = lambda x,y,z: (25-2*x+3*y)/20\n",
    "# Initial setup\n",
    "x0 = 0\n",
    "y0 = 0\n",
    "z0 = 0\n",
    "count = 1\n",
    "# Reading tolerable error\n",
    "e = float(input('Enter tolerable error: '))\n",
    "# Implementation of Gauss Seidel Iteration\n",
    "print('\\nCount\\tx\\ty\\tz\\n')\n",
    "condition = True\n",
    "while condition:\n",
    "    x1 = f1(x0,y0,z0)\n",
    "    y1 = f2(x1,y0,z0)\n",
    "    z1 = f3(x1,y1,z0)\n",
    "    print('%d\\t%0.4f\\t%0.4f\\t%0.4f\\n' %(count, x1,y1,z1))\n",
    "    e1 = abs(x0-x1);\n",
    "    e2 = abs(y0-y1);\n",
    "    e3 = abs(z0-z1);\n",
    "    count += 1\n",
    "    x0 = x1\n",
    "    y0 = y1\n",
    "    z0 = z1\n",
    "    condition = e1>e and e2>e and e3>e\n",
    "print('\\nSolution: x=%0.3f, y=%0.3f and z = %0.3f\\n'% (x1,y1,z1))"
   ]
  },
  {
   "cell_type": "code",
   "execution_count": null,
   "id": "ef00f5d8",
   "metadata": {},
   "outputs": [],
   "source": []
  },
  {
   "cell_type": "code",
   "execution_count": 1,
   "id": "11dfcbeb",
   "metadata": {},
   "outputs": [
    {
     "name": "stdout",
     "output_type": "stream",
     "text": [
      "Enter tolerable error: 0.10\n",
      "Enter relaxation factor: 1\n",
      "\n",
      "Count\tx\ty\tz\n",
      "\n",
      "1\t-0.3333\t2.2222\t-1.4815\n",
      "\n",
      "2\t0.9012\t2.1399\t-1.9204\n",
      "\n",
      "\n",
      "Solution: x = 0.901, y = 2.140 and z = -1.920\n",
      "\n"
     ]
    }
   ],
   "source": [
    "# successive over-relaxation (SOR)\n",
    "# Defining equations to be solved\n",
    "# in diagonally dominant form\n",
    "f1 = lambda x,y,z: (-1+y-z)/3\n",
    "f2 = lambda x,y,z: (7+x+z)/3\n",
    "f3 = lambda x,y,z: (-7-x+y)/3\n",
    "# Initial setup\n",
    "x0 = 0\n",
    "y0 = 0\n",
    "z0 = 0\n",
    "count = 1\n",
    "# Reading tolerable error\n",
    "e = float(input('Enter tolerable error: '))\n",
    "# Reading relaxation factor\n",
    "w = float(input(\"Enter relaxation factor: \"))\n",
    "# Implementation of successive over-relaxation\n",
    "print('\\nCount\\tx\\ty\\tz\\n')\n",
    "condition = True\n",
    "while condition:\n",
    "    x1 = (1-w) * x0 + w * f1(x0,y0,z0)\n",
    "    y1 = (1-w) * y0 + w * f2(x1,y0,z0)\n",
    "    z1 = (1-w) * z0 + w * f3(x1,y1,z0)\n",
    "    print('%d\\t%0.4f\\t%0.4f\\t%0.4f\\n' %(count, x1,y1,z1))\n",
    "    e1 = abs(x0-x1);\n",
    "    e2 = abs(y0-y1);\n",
    "    e3 = abs(z0-z1);\n",
    "    \n",
    "    count += 1\n",
    "    x0 = x1\n",
    "    y0 = y1\n",
    "    z0 = z1\n",
    "    \n",
    "    condition = e1>e and e2>e and e3>e\n",
    "print('\\nSolution: x = %0.3f, y = %0.3f and z = %0.3f\\n'% (x1,y1,z1))"
   ]
  },
  {
   "cell_type": "code",
   "execution_count": null,
   "id": "147f301d",
   "metadata": {},
   "outputs": [],
   "source": []
  }
 ],
 "metadata": {
  "kernelspec": {
   "display_name": "Python 3 (ipykernel)",
   "language": "python",
   "name": "python3"
  },
  "language_info": {
   "codemirror_mode": {
    "name": "ipython",
    "version": 3
   },
   "file_extension": ".py",
   "mimetype": "text/x-python",
   "name": "python",
   "nbconvert_exporter": "python",
   "pygments_lexer": "ipython3",
   "version": "3.9.12"
  }
 },
 "nbformat": 4,
 "nbformat_minor": 5
}
